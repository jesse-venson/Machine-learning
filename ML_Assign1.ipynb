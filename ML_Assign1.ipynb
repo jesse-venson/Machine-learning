{
  "nbformat": 4,
  "nbformat_minor": 0,
  "metadata": {
    "colab": {
      "provenance": [],
      "authorship_tag": "ABX9TyNKGm4YM1YtsFpYsbhBW7vS",
      "include_colab_link": true
    },
    "kernelspec": {
      "name": "python3",
      "display_name": "Python 3"
    },
    "language_info": {
      "name": "python"
    }
  },
  "cells": [
    {
      "cell_type": "markdown",
      "metadata": {
        "id": "view-in-github",
        "colab_type": "text"
      },
      "source": [
        "<a href=\"https://colab.research.google.com/github/jesse-venson/Machine-learning/blob/main/ML_Assign1.ipynb\" target=\"_parent\"><img src=\"https://colab.research.google.com/assets/colab-badge.svg\" alt=\"Open In Colab\"/></a>"
      ]
    },
    {
      "cell_type": "markdown",
      "source": [
        "Assign 1 - numpy"
      ],
      "metadata": {
        "id": "hdJmoungZ6r0"
      }
    },
    {
      "cell_type": "code",
      "execution_count": 2,
      "metadata": {
        "colab": {
          "base_uri": "https://localhost:8080/"
        },
        "id": "GH-hBVrVY9Su",
        "outputId": "a36908cb-5eab-4255-b4b2-fb6932d4f89b"
      },
      "outputs": [
        {
          "output_type": "stream",
          "name": "stdout",
          "text": [
            "[5 4 6 3 2 1]\n"
          ]
        }
      ],
      "source": [
        "import numpy as np\n",
        "#reverse an array\n",
        "arr = np.array([1, 2, 3, 6, 4, 5])\n",
        "reversed_arr = arr[::-1]\n",
        "print(reversed_arr)"
      ]
    },
    {
      "cell_type": "code",
      "source": [
        "#(b)flatten\n",
        "array1 = np.array([[1, 2, 3], [2, 4, 5], [1, 2, 3]])\n",
        "# Method 1\n",
        "flat1 = array1.flatten()\n",
        "# Method 2\n",
        "flat2 = array1.ravel()\n",
        "print(flat1)"
      ],
      "metadata": {
        "colab": {
          "base_uri": "https://localhost:8080/"
        },
        "id": "3H9nKH5ZaFVj",
        "outputId": "985c3678-06c2-4281-c058-02f5846af59a"
      },
      "execution_count": 4,
      "outputs": [
        {
          "output_type": "stream",
          "name": "stdout",
          "text": [
            "[1 2 3 2 4 5 1 2 3]\n"
          ]
        }
      ]
    },
    {
      "cell_type": "code",
      "source": [
        "#(c)compare\n",
        "arr1 = np.array([[1, 2], [3, 4]])\n",
        "arr2 = np.array([[1, 2], [3, 4]])\n",
        "comparison = np.array_equal(arr1, arr2)\n"
      ],
      "metadata": {
        "id": "XI84bo2mabcc"
      },
      "execution_count": 5,
      "outputs": []
    },
    {
      "cell_type": "code",
      "source": [
        "#(d)most frequest indices\n",
        "# i\n",
        "x = np.array([1, 2, 3, 4, 5, 1, 2, 1, 1])\n",
        "unique, counts = np.unique(x, return_counts=True)\n",
        "most_freq_val = unique[np.argmax(counts)]\n",
        "indices = np.where(x == most_freq_val)\n",
        "print(indices)\n",
        "# ii\n",
        "y = np.array([1, 1, 1, 2, 3, 4, 2, 4, 3, 3])\n",
        "unique_y, counts_y = np.unique(y, return_counts=True)\n",
        "most_freq_y = unique_y[np.argmax(counts_y)]\n",
        "indices_y = np.where(y == most_freq_y)\n",
        "print(indices_y)"
      ],
      "metadata": {
        "colab": {
          "base_uri": "https://localhost:8080/"
        },
        "id": "za0LuN6QaglL",
        "outputId": "692d6b86-f3e2-41a4-cab0-e9768d66d180"
      },
      "execution_count": 8,
      "outputs": [
        {
          "output_type": "stream",
          "name": "stdout",
          "text": [
            "(array([0, 5, 7, 8]),)\n",
            "(array([0, 1, 2]),)\n"
          ]
        }
      ]
    },
    {
      "cell_type": "code",
      "source": [
        "#(e)matrix operations\n",
        "gfg = np.matrix('4, 1, 9; 12, 3, 1; 4, 5, 6')\n",
        "# i\n",
        "sum_all = gfg.sum()\n",
        "# ii\n",
        "row_sum = gfg.sum(axis=1)\n",
        "# iii\n",
        "col_sum = gfg.sum(axis=0)\n",
        "print(col_sum)"
      ],
      "metadata": {
        "colab": {
          "base_uri": "https://localhost:8080/"
        },
        "id": "Lmb8B1hfa9fQ",
        "outputId": "189dfbc6-95c3-4309-c285-cba41ae6ed4a"
      },
      "execution_count": 10,
      "outputs": [
        {
          "output_type": "stream",
          "name": "stdout",
          "text": [
            "[[20  9 16]]\n"
          ]
        }
      ]
    },
    {
      "cell_type": "code",
      "source": [
        "#(f)matrix computations\n",
        "n_array = np.array([[55, 25, 15], [30, 44, 2], [11, 45, 77]])\n",
        "# i\n",
        "diag_sum = np.trace(n_array)\n",
        "# ii\n",
        "eig_vals, eig_vecs = np.linalg.eig(n_array)\n",
        "# iii\n",
        "eig_vecs  # Already computed above\n",
        "# iv\n",
        "inverse = np.linalg.inv(n_array)\n",
        "# v\n",
        "det = np.linalg.det(n_array)\n"
      ],
      "metadata": {
        "id": "6noE6HBAbHt_"
      },
      "execution_count": 11,
      "outputs": []
    },
    {
      "cell_type": "code",
      "source": [
        "#(g) Matrix multiplication and covariance\n",
        "import numpy as np\n",
        "\n",
        "p = np.array([[1, 2], [2, 3], [4, 5]])\n",
        "q = np.array([[4, 5], [6, 7], [8, 9]])  # Adjusted to match p's shape\n",
        "\n",
        "product2 = np.dot(p, q.T)\n",
        "print(\"Product:\\n\", product2)\n",
        "\n",
        "# Covariance: compare corresponding features (columns)\n",
        "cov2 = np.cov(p.T, q.T)\n",
        "print(\"Covariance between p and q:\\n\", cov2)\n"
      ],
      "metadata": {
        "colab": {
          "base_uri": "https://localhost:8080/"
        },
        "id": "uHz-i0nQbe9p",
        "outputId": "1ebfbce8-814f-454f-b9dc-661e62ece0fe"
      },
      "execution_count": 16,
      "outputs": [
        {
          "output_type": "stream",
          "name": "stdout",
          "text": [
            "Product:\n",
            " [[14 20 26]\n",
            " [23 33 43]\n",
            " [41 59 77]]\n",
            "Covariance between p and q:\n",
            " [[2.33333333 2.33333333 3.         3.        ]\n",
            " [2.33333333 2.33333333 3.         3.        ]\n",
            " [3.         3.         4.         4.        ]\n",
            " [3.         3.         4.         4.        ]]\n"
          ]
        }
      ]
    },
    {
      "cell_type": "code",
      "source": [
        "#(h) Outer and Cartesian product\n",
        "x = np.array([[1, 2, 3], [2, 3, 4], [3, 2, 9]])\n",
        "y = np.array([[1, 5, 0], [5, 10, 3]])\n",
        "\n",
        "# Outer product\n",
        "outer = np.outer(x.flatten(), y.flatten())\n",
        "\n",
        "# Cartesian product\n",
        "from itertools import product\n",
        "cartesian = np.array(list(product(x.flatten(), y.flatten())))\n",
        "print(cartesian)"
      ],
      "metadata": {
        "colab": {
          "base_uri": "https://localhost:8080/"
        },
        "id": "sovF2WCjcbhH",
        "outputId": "d32c0c1a-0b16-49d8-8cdd-d641291f7c16"
      },
      "execution_count": 19,
      "outputs": [
        {
          "output_type": "stream",
          "name": "stdout",
          "text": [
            "[[ 1  1]\n",
            " [ 1  5]\n",
            " [ 1  0]\n",
            " [ 1  5]\n",
            " [ 1 10]\n",
            " [ 1  3]\n",
            " [ 2  1]\n",
            " [ 2  5]\n",
            " [ 2  0]\n",
            " [ 2  5]\n",
            " [ 2 10]\n",
            " [ 2  3]\n",
            " [ 3  1]\n",
            " [ 3  5]\n",
            " [ 3  0]\n",
            " [ 3  5]\n",
            " [ 3 10]\n",
            " [ 3  3]\n",
            " [ 2  1]\n",
            " [ 2  5]\n",
            " [ 2  0]\n",
            " [ 2  5]\n",
            " [ 2 10]\n",
            " [ 2  3]\n",
            " [ 3  1]\n",
            " [ 3  5]\n",
            " [ 3  0]\n",
            " [ 3  5]\n",
            " [ 3 10]\n",
            " [ 3  3]\n",
            " [ 4  1]\n",
            " [ 4  5]\n",
            " [ 4  0]\n",
            " [ 4  5]\n",
            " [ 4 10]\n",
            " [ 4  3]\n",
            " [ 3  1]\n",
            " [ 3  5]\n",
            " [ 3  0]\n",
            " [ 3  5]\n",
            " [ 3 10]\n",
            " [ 3  3]\n",
            " [ 2  1]\n",
            " [ 2  5]\n",
            " [ 2  0]\n",
            " [ 2  5]\n",
            " [ 2 10]\n",
            " [ 2  3]\n",
            " [ 9  1]\n",
            " [ 9  5]\n",
            " [ 9  0]\n",
            " [ 9  5]\n",
            " [ 9 10]\n",
            " [ 9  3]]\n"
          ]
        }
      ]
    },
    {
      "cell_type": "code",
      "source": [
        "# 2-(a)\n",
        "import numpy as np\n",
        "\n",
        "array = np.array([[1, -2, 3], [-4, 5, -6]])\n",
        "\n",
        "abs_array = np.abs(array)\n",
        "print(\"Absolute values:\\n\", abs_array)\n",
        "\n",
        "flat = array.flatten()\n",
        "percentiles_flat = np.percentile(flat, [25, 50, 75])\n",
        "print(\"Percentiles (flat):\", percentiles_flat)\n",
        "\n",
        "percentiles_cols = np.percentile(array, [25, 50, 75], axis=0)\n",
        "print(\"Percentiles (columns):\\n\", percentiles_cols)\n",
        "\n",
        "percentiles_rows = np.percentile(array, [25, 50, 75], axis=1)\n",
        "print(\"Percentiles (rows):\\n\", percentiles_rows)\n",
        "\n",
        "mean_flat = np.mean(flat)\n",
        "median_flat = np.median(flat)\n",
        "std_flat = np.std(flat)\n",
        "\n",
        "print(\"Mean (flat):\", mean_flat)\n",
        "print(\"Median (flat):\", median_flat)\n",
        "print(\"Std Dev (flat):\", std_flat)\n",
        "\n",
        "mean_cols = np.mean(array, axis=0)\n",
        "median_cols = np.median(array, axis=0)\n",
        "std_cols = np.std(array, axis=0)\n",
        "\n",
        "print(\"Mean (columns):\", mean_cols)\n",
        "print(\"Median (columns):\", median_cols)\n",
        "print(\"Std Dev (columns):\", std_cols)\n",
        "\n",
        "mean_rows = np.mean(array, axis=1)\n",
        "median_rows = np.median(array, axis=1)\n",
        "std_rows = np.std(array, axis=1)\n",
        "\n",
        "print(\"Mean (rows):\", mean_rows)\n",
        "print(\"Median (rows):\", median_rows)\n",
        "print(\"Std Dev (rows):\", std_rows)\n",
        "\n"
      ],
      "metadata": {
        "colab": {
          "base_uri": "https://localhost:8080/"
        },
        "id": "LhFkFL0OcgIm",
        "outputId": "f813864b-81d0-49b5-8173-398d114daca0"
      },
      "execution_count": 21,
      "outputs": [
        {
          "output_type": "stream",
          "name": "stdout",
          "text": [
            "Absolute values:\n",
            " [[1 2 3]\n",
            " [4 5 6]]\n",
            "Percentiles (flat): [-3.5 -0.5  2.5]\n",
            "Percentiles (columns):\n",
            " [[-2.75 -0.25 -3.75]\n",
            " [-1.5   1.5  -1.5 ]\n",
            " [-0.25  3.25  0.75]]\n",
            "Percentiles (rows):\n",
            " [[-0.5 -5. ]\n",
            " [ 1.  -4. ]\n",
            " [ 2.   0.5]]\n",
            "Mean (flat): -0.5\n",
            "Median (flat): -0.5\n",
            "Std Dev (flat): 3.8622100754188224\n",
            "Mean (columns): [-1.5  1.5 -1.5]\n",
            "Median (columns): [-1.5  1.5 -1.5]\n",
            "Std Dev (columns): [2.5 3.5 4.5]\n",
            "Mean (rows): [ 0.66666667 -1.66666667]\n",
            "Median (rows): [ 1. -4.]\n",
            "Std Dev (rows): [2.05480467 4.78423336]\n"
          ]
        }
      ]
    },
    {
      "cell_type": "code",
      "source": [
        "#2-(b)\n",
        "a = np.array([-1.8, -1.6, -0.5, 0.5, 1.6, 1.8, 3.0])\n",
        "floor_vals = np.floor(a)\n",
        "print(\"Floor:\", floor_vals)\n",
        "ceil_vals = np.ceil(a)\n",
        "print(\"Ceiling:\", ceil_vals)\n",
        "trunc_vals = np.trunc(a)\n",
        "print(\"Truncated:\", trunc_vals)\n",
        "rounded_vals = np.round(a)\n",
        "print(\"Rounded:\", rounded_vals)\n"
      ],
      "metadata": {
        "colab": {
          "base_uri": "https://localhost:8080/"
        },
        "id": "xSguVnJOdB_w",
        "outputId": "11bdf0e7-d12b-4307-8b33-5dad0c77461f"
      },
      "execution_count": 23,
      "outputs": [
        {
          "output_type": "stream",
          "name": "stdout",
          "text": [
            "Floor: [-2. -2. -1.  0.  1.  1.  3.]\n",
            "Ceiling: [-1. -1. -0.  1.  2.  2.  3.]\n",
            "Truncated: [-1. -1. -0.  0.  1.  1.  3.]\n",
            "Rounded: [-2. -2. -0.  0.  2.  2.  3.]\n"
          ]
        }
      ]
    },
    {
      "cell_type": "code",
      "source": [
        "#3-(a)\n",
        "import numpy as np\n",
        "\n",
        "array = np.array([10, 52, 62, 16, 16, 54, 453])\n",
        "\n",
        "sorted_array = np.sort(array)\n",
        "print(\"Sorted array:\", sorted_array)\n",
        "\n",
        "sorted_indices = np.argsort(array)\n",
        "print(\"Indices of sorted array:\", sorted_indices)\n",
        "\n",
        "smallest_4 = np.sort(array)[:4]\n",
        "print(\"4 smallest elements:\", smallest_4)\n",
        "\n",
        "largest_5 = np.sort(array)[-5:][::-1]  # Sorted in descending order\n",
        "print(\"5 largest elements:\", largest_5)\n"
      ],
      "metadata": {
        "colab": {
          "base_uri": "https://localhost:8080/"
        },
        "id": "-drj0Sn5e-s8",
        "outputId": "f75f131f-8396-4d7e-f818-04164941b9d9"
      },
      "execution_count": 24,
      "outputs": [
        {
          "output_type": "stream",
          "name": "stdout",
          "text": [
            "Sorted array: [ 10  16  16  52  54  62 453]\n",
            "Indices of sorted array: [0 3 4 1 5 2 6]\n",
            "4 smallest elements: [10 16 16 52]\n",
            "5 largest elements: [453  62  54  52  16]\n"
          ]
        }
      ]
    },
    {
      "cell_type": "code",
      "source": [
        "#3-(b)\n",
        "array_b = np.array([1.0, 1.2, 2.2, 2.0, 3.0, 2.0])\n",
        "\n",
        "int_elements = array_b[array_b == array_b.astype(int)]\n",
        "print(\"Integer elements only:\", int_elements)\n",
        "\n",
        "float_elements = array_b[array_b != array_b.astype(int)]\n",
        "print(\"Float elements only:\", float_elements)\n",
        "\n"
      ],
      "metadata": {
        "colab": {
          "base_uri": "https://localhost:8080/"
        },
        "id": "FTg1sK1Efd0H",
        "outputId": "2a3c89f1-f044-4132-a9ce-ad2b03c81c16"
      },
      "execution_count": 25,
      "outputs": [
        {
          "output_type": "stream",
          "name": "stdout",
          "text": [
            "Integer elements only: [1. 2. 3. 2.]\n",
            "Float elements only: [1.2 2.2]\n"
          ]
        }
      ]
    },
    {
      "cell_type": "code",
      "source": [
        "#4\n",
        "import numpy as np\n",
        "import cv2\n",
        "\n",
        "def img_to_array(path):\n",
        "\n",
        "    img_gray = cv2.imread(path, cv2.IMREAD_GRAYSCALE)\n",
        "\n",
        "    if img_gray is not None:\n",
        "        print(\"Grayscale image detected.\")\n",
        "        np.savetxt(\"grayscale_image.txt\", img_gray, fmt='%d')\n",
        "        print(\"Saved as 'grayscale_image.txt'\")\n",
        "        return img_gray\n",
        "    else:\n",
        "        # Read as RGB (BGR by default in OpenCV)\n",
        "        img_rgb = cv2.imread(path, cv2.IMREAD_COLOR)\n",
        "        if img_rgb is None:\n",
        "            raise FileNotFoundError(\"Image not found or unreadable\")\n",
        "\n",
        "        # Convert BGR to RGB\n",
        "        img_rgb = cv2.cvtColor(img_rgb, cv2.COLOR_BGR2RGB)\n",
        "        print(\"RGB image detected.\")\n",
        "\n",
        "        # Save each channel separately\n",
        "        np.savetxt(\"rgb_red.txt\", img_rgb[:, :, 0], fmt='%d')\n",
        "        np.savetxt(\"rgb_green.txt\", img_rgb[:, :, 1], fmt='%d')\n",
        "        np.savetxt(\"rgb_blue.txt\", img_rgb[:, :, 2], fmt='%d')\n",
        "        print(\"Saved as 'rgb_red.txt', 'rgb_green.txt', and 'rgb_blue.txt'\")\n",
        "        return img_rgb\n"
      ],
      "metadata": {
        "id": "wZfR93ouik8x"
      },
      "execution_count": 26,
      "outputs": []
    }
  ]
}