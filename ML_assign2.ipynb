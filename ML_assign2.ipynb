{
  "nbformat": 4,
  "nbformat_minor": 0,
  "metadata": {
    "colab": {
      "provenance": [],
      "authorship_tag": "ABX9TyMAAO/LL17ZUra4BRK9CCpn",
      "include_colab_link": true
    },
    "kernelspec": {
      "name": "python3",
      "display_name": "Python 3"
    },
    "language_info": {
      "name": "python"
    }
  },
  "cells": [
    {
      "cell_type": "markdown",
      "metadata": {
        "id": "view-in-github",
        "colab_type": "text"
      },
      "source": [
        "<a href=\"https://colab.research.google.com/github/jesse-venson/Machine-learning/blob/main/ML_assign2.ipynb\" target=\"_parent\"><img src=\"https://colab.research.google.com/assets/colab-badge.svg\" alt=\"Open In Colab\"/></a>"
      ]
    },
    {
      "cell_type": "code",
      "execution_count": 1,
      "metadata": {
        "id": "75PWtnYugBhU"
      },
      "outputs": [],
      "source": [
        "import pandas as pd\n",
        "import numpy as np\n",
        "\n",
        "import matplotlib.pyplot as plt\n",
        "import seaborn as sns\n",
        "\n",
        "from sklearn.preprocessing import StandardScaler,MinMaxScaler, OneHotEncoder, KBinsDiscretizer\n",
        "from sklearn.metrics.pairwise import cosine_similarity\n",
        "from sklearn.impute import SimpleImputer\n",
        "from sklearn.compose import ColumnTransformer\n",
        "from sklearn.pipeline import Pipeline\n",
        "from sklearn.metrics import jaccard_score, pairwise_distances\n",
        "\n",
        "from scipy.spatial.distance import cosine\n",
        "import os"
      ]
    },
    {
      "cell_type": "markdown",
      "source": [
        "Part I: Based on Feature Selection, Cleaning, and Preprocessing to Construct an Input from Data Source (a) Examine the values of each attribute and Select a set of attributes only that would affect to predict future bike buyers to create your input for data mining algorithms. Remove all the unnecessary attributes. (Select features just by analysis)."
      ],
      "metadata": {
        "id": "GfPHJXEyhYrx"
      }
    },
    {
      "cell_type": "code",
      "source": [
        "import sys\n",
        "!{sys.executable} -m pip install kagglehub\n",
        "import kagglehub\n",
        "# Download Latest Version\n",
        "path = kagglehub.dataset_download(\"jahias/microsoft-adventure-works-cycles-customer-data\")\n",
        "\n",
        "print(\"Path to dataset files:\", path)"
      ],
      "metadata": {
        "colab": {
          "base_uri": "https://localhost:8080/"
        },
        "id": "aACMAFcRhays",
        "outputId": "c588577c-d34e-4cfd-f18e-a01b0f9c1f2c"
      },
      "execution_count": 2,
      "outputs": [
        {
          "output_type": "stream",
          "name": "stdout",
          "text": [
            "Requirement already satisfied: kagglehub in /usr/local/lib/python3.12/dist-packages (0.3.12)\n",
            "Requirement already satisfied: packaging in /usr/local/lib/python3.12/dist-packages (from kagglehub) (25.0)\n",
            "Requirement already satisfied: pyyaml in /usr/local/lib/python3.12/dist-packages (from kagglehub) (6.0.2)\n",
            "Requirement already satisfied: requests in /usr/local/lib/python3.12/dist-packages (from kagglehub) (2.32.4)\n",
            "Requirement already satisfied: tqdm in /usr/local/lib/python3.12/dist-packages (from kagglehub) (4.67.1)\n",
            "Requirement already satisfied: charset_normalizer<4,>=2 in /usr/local/lib/python3.12/dist-packages (from requests->kagglehub) (3.4.3)\n",
            "Requirement already satisfied: idna<4,>=2.5 in /usr/local/lib/python3.12/dist-packages (from requests->kagglehub) (3.10)\n",
            "Requirement already satisfied: urllib3<3,>=1.21.1 in /usr/local/lib/python3.12/dist-packages (from requests->kagglehub) (2.5.0)\n",
            "Requirement already satisfied: certifi>=2017.4.17 in /usr/local/lib/python3.12/dist-packages (from requests->kagglehub) (2025.8.3)\n",
            "Warning: Looks like you're using an outdated `kagglehub` version (installed: 0.3.12), please consider upgrading to the latest version (0.3.13).\n",
            "Downloading from https://www.kaggle.com/api/v1/datasets/download/jahias/microsoft-adventure-works-cycles-customer-data?dataset_version_number=1...\n"
          ]
        },
        {
          "output_type": "stream",
          "name": "stderr",
          "text": [
            "100%|██████████| 939k/939k [00:00<00:00, 61.7MB/s]"
          ]
        },
        {
          "output_type": "stream",
          "name": "stdout",
          "text": [
            "Extracting files...\n",
            "Path to dataset files: /root/.cache/kagglehub/datasets/jahias/microsoft-adventure-works-cycles-customer-data/versions/1\n"
          ]
        },
        {
          "output_type": "stream",
          "name": "stderr",
          "text": [
            "\n"
          ]
        }
      ]
    },
    {
      "cell_type": "code",
      "source": [
        "data_customers = pd.read_csv(os.path.join(path,'AWCustomers.csv'))\n",
        "data_sales = pd.read_csv(os.path.join(path,'AWSales.csv'))"
      ],
      "metadata": {
        "id": "aefi7Zm_hnvI"
      },
      "execution_count": 3,
      "outputs": []
    },
    {
      "cell_type": "code",
      "source": [
        "print(data_sales.columns)\n",
        "print(data_customers.columns)\n",
        "\n",
        "# to avoid having 2 custId column, we will drop it\n",
        "data_sales.drop(['CustomerID'],axis = 1, inplace=True)"
      ],
      "metadata": {
        "colab": {
          "base_uri": "https://localhost:8080/"
        },
        "id": "3bEztyPshq-I",
        "outputId": "a966924e-3972-4c39-f63b-e1784c618c5a"
      },
      "execution_count": 4,
      "outputs": [
        {
          "output_type": "stream",
          "name": "stdout",
          "text": [
            "Index(['CustomerID', 'BikeBuyer', 'AvgMonthSpend'], dtype='object')\n",
            "Index(['CustomerID', 'Title', 'FirstName', 'MiddleName', 'LastName', 'Suffix',\n",
            "       'AddressLine1', 'AddressLine2', 'City', 'StateProvinceName',\n",
            "       'CountryRegionName', 'PostalCode', 'PhoneNumber', 'BirthDate',\n",
            "       'Education', 'Occupation', 'Gender', 'MaritalStatus', 'HomeOwnerFlag',\n",
            "       'NumberCarsOwned', 'NumberChildrenAtHome', 'TotalChildren',\n",
            "       'YearlyIncome', 'LastUpdated'],\n",
            "      dtype='object')\n"
          ]
        }
      ]
    },
    {
      "cell_type": "code",
      "source": [
        "df = pd.concat([data_customers,data_sales],axis= 1)\n",
        "df.columns"
      ],
      "metadata": {
        "colab": {
          "base_uri": "https://localhost:8080/"
        },
        "id": "jSR_D44PhuA2",
        "outputId": "7a484e76-1bdd-4853-f977-5553d47b2848"
      },
      "execution_count": 5,
      "outputs": [
        {
          "output_type": "execute_result",
          "data": {
            "text/plain": [
              "Index(['CustomerID', 'Title', 'FirstName', 'MiddleName', 'LastName', 'Suffix',\n",
              "       'AddressLine1', 'AddressLine2', 'City', 'StateProvinceName',\n",
              "       'CountryRegionName', 'PostalCode', 'PhoneNumber', 'BirthDate',\n",
              "       'Education', 'Occupation', 'Gender', 'MaritalStatus', 'HomeOwnerFlag',\n",
              "       'NumberCarsOwned', 'NumberChildrenAtHome', 'TotalChildren',\n",
              "       'YearlyIncome', 'LastUpdated', 'BikeBuyer', 'AvgMonthSpend'],\n",
              "      dtype='object')"
            ]
          },
          "metadata": {},
          "execution_count": 5
        }
      ]
    },
    {
      "cell_type": "code",
      "source": [
        "# Classifying the Variables into discrete and continuous\n",
        "\n",
        "var_cat = [] #categorical\n",
        "var_num = [] #numerical\n",
        "\n",
        "for c in df.columns:\n",
        "    if df[c].dtype == 'float64':\n",
        "        var_cat.append(c)\n",
        "    if df[c].dtype == 'int64':\n",
        "        var_num.append(c)\n",
        "\n",
        "print (\"Discrete Variables : \", var_num)\n",
        "print (\"Continuous Variables : \", var_cat)"
      ],
      "metadata": {
        "colab": {
          "base_uri": "https://localhost:8080/"
        },
        "id": "rjw2-BTyhzas",
        "outputId": "d763e995-6a10-4564-84e4-b1affb04be17"
      },
      "execution_count": 6,
      "outputs": [
        {
          "output_type": "stream",
          "name": "stdout",
          "text": [
            "Discrete Variables :  ['CustomerID', 'HomeOwnerFlag', 'NumberCarsOwned', 'NumberChildrenAtHome', 'TotalChildren', 'YearlyIncome']\n",
            "Continuous Variables :  ['BikeBuyer', 'AvgMonthSpend']\n"
          ]
        }
      ]
    },
    {
      "cell_type": "code",
      "source": [
        "# Classification of Datatypes\n",
        "Nominal = [\n",
        "    'CustomerID',\n",
        "    'FirstName',\n",
        "    'LastName',\n",
        "    'AddressLine1',\n",
        "    'City',\n",
        "    'StateProvinceName',\n",
        "    'CountryRegionName',\n",
        "    'PostalCode',\n",
        "    'Gender',\n",
        "    'MaritalStatus',\n",
        "    'HomeOwnerFlag',\n",
        "    'BikeBuyer'\n",
        "]\n",
        "Ordinal=[]\n",
        "Ratio = [\n",
        "    'NumberCarsOwned',\n",
        "    'NumberChildrenAtHome',\n",
        "    'TotalChildren',\n",
        "    'YearlyIncome',\n",
        "    'AvgMonthSpend'\n",
        "]\n",
        "Interval=['BirthDate']\n",
        "print(\"Nominal: \",Nominal)\n",
        "print(\"Ordinal: \",Ordinal)\n",
        "print(\"Ratio: \",Ratio)\n",
        "print(\"Interval: \",Interval)"
      ],
      "metadata": {
        "colab": {
          "base_uri": "https://localhost:8080/"
        },
        "id": "Et3lzHyVh4E4",
        "outputId": "bb97ffcf-004f-46a1-aa5d-4431d222a89b"
      },
      "execution_count": 7,
      "outputs": [
        {
          "output_type": "stream",
          "name": "stdout",
          "text": [
            "Nominal:  ['CustomerID', 'FirstName', 'LastName', 'AddressLine1', 'City', 'StateProvinceName', 'CountryRegionName', 'PostalCode', 'Gender', 'MaritalStatus', 'HomeOwnerFlag', 'BikeBuyer']\n",
            "Ordinal:  []\n",
            "Ratio:  ['NumberCarsOwned', 'NumberChildrenAtHome', 'TotalChildren', 'YearlyIncome', 'AvgMonthSpend']\n",
            "Interval:  ['BirthDate']\n"
          ]
        }
      ]
    },
    {
      "cell_type": "markdown",
      "source": [
        "Part II: Data Preprocessing and Transformation Depending on the data type of each attribute, transform each object from your preprocessed data. Use all the data rows (~= 18000 rows) with the selected features as input to apply all the tasks below, do not perform each task on the smaller data set that you got from your random sampling result. (a) Handling Null values (b) Normalization (c) values (d) Standardization/Normalization (e) Binarization (One Hot Encoding)"
      ],
      "metadata": {
        "id": "3fURi-4kh7RF"
      }
    },
    {
      "cell_type": "markdown",
      "source": [
        "Handling Null Values"
      ],
      "metadata": {
        "id": "9VNWc9T1iCXk"
      }
    },
    {
      "cell_type": "code",
      "source": [
        "numerical_features = ['YearlyIncome', 'AvgMonthSpend', 'NumberCarsOwned', 'NumberChildrenAtHome', 'TotalChildren']\n",
        "categorical_features = ['Gender', 'MaritalStatus', 'HomeOwnerFlag', 'BikeBuyer']\n",
        "\n",
        "numerical_imputer = SimpleImputer(strategy='mean')\n",
        "categorical_imputer = SimpleImputer(strategy='most_frequent')\n",
        "\n",
        "\n",
        "df[numerical_features] = numerical_imputer.fit_transform(df[numerical_features])\n",
        "df[categorical_features] = categorical_imputer.fit_transform(df[categorical_features])"
      ],
      "metadata": {
        "id": "RiFNOSUnh8eF"
      },
      "execution_count": 8,
      "outputs": []
    },
    {
      "cell_type": "markdown",
      "source": [
        "Normalization of Values"
      ],
      "metadata": {
        "id": "dUxBMIKxiA2z"
      }
    },
    {
      "cell_type": "code",
      "source": [
        "scaler = MinMaxScaler()\n",
        "df[numerical_features] = scaler.fit_transform(df[numerical_features])"
      ],
      "metadata": {
        "id": "fUtK-8uBiJYq"
      },
      "execution_count": null,
      "outputs": []
    },
    {
      "cell_type": "markdown",
      "source": [
        "Standardization"
      ],
      "metadata": {
        "id": "qTGEoYoriLp2"
      }
    },
    {
      "cell_type": "code",
      "source": [
        "standard_scaler = StandardScaler()\n",
        "df[numerical_features] = standard_scaler.fit_transform(df[numerical_features])"
      ],
      "metadata": {
        "id": "05yJl8mciN-3"
      },
      "execution_count": 9,
      "outputs": []
    },
    {
      "cell_type": "markdown",
      "source": [
        "Binning/ Discretization on continuous attributes / or Discrete attributes with too many values"
      ],
      "metadata": {
        "id": "P-F1rPiDiRkv"
      }
    },
    {
      "cell_type": "code",
      "source": [
        "binning_transformer = KBinsDiscretizer(n_bins=3, encode='ordinal', strategy='uniform')\n",
        "df['YearlyIncome_Binned'] = binning_transformer.fit_transform(df[['YearlyIncome']])"
      ],
      "metadata": {
        "id": "-nN7uDnviSKt"
      },
      "execution_count": 10,
      "outputs": []
    },
    {
      "cell_type": "markdown",
      "source": [
        "One Hot Encoding"
      ],
      "metadata": {
        "id": "EaJQtP0qiUsl"
      }
    },
    {
      "cell_type": "code",
      "source": [
        "encoder = OneHotEncoder(sparse_output=False)\n",
        "categorical_features = ['Gender', 'MaritalStatus', 'HomeOwnerFlag', 'BikeBuyer']\n",
        "encoded_categorical_features = encoder.fit_transform(df[categorical_features])\n",
        "encoded_df = pd.DataFrame(encoded_categorical_features, columns=encoder.get_feature_names_out(categorical_features))\n",
        "df = pd.concat([df, encoded_df], axis=1).drop(categorical_features, axis=1)"
      ],
      "metadata": {
        "id": "pIi-nVUyicWH"
      },
      "execution_count": 11,
      "outputs": []
    },
    {
      "cell_type": "markdown",
      "source": [
        "Part III: Calculating Proximity /Correlation Analysis of two features Make sure each attribute is transformed in a same scale for numeric attributes and Binarization for each nominal attribute, and each discretized numeric attribute to standardization. Make sure to apply a correct similarity measure for nominal (one hot encoding)/binary attributes and numeric attributes respectively. (a) Calculate Similarity in Simple Matching, Jaccard Similarity, and Cosine Similarity between two following objects of your transformed input data. (b) Calculate Correlation between two features Commute Distance and Yearly Income"
      ],
      "metadata": {
        "id": "n-AgcfJqiePO"
      }
    },
    {
      "cell_type": "code",
      "source": [
        "def jaccard(list1, list2):\n",
        "    intersection = len(list(set(list1).intersection(list2)))\n",
        "    union = (len(list1) + len(list2)) - intersection\n",
        "    return float(intersection) / union\n",
        "\n",
        "# calling the function JACCARD\n",
        "jaccard(df['YearlyIncome'],df['AvgMonthSpend'])"
      ],
      "metadata": {
        "colab": {
          "base_uri": "https://localhost:8080/"
        },
        "id": "tfdtDcUnigF9",
        "outputId": "0f573702-3f0c-453e-d843-0d2e9fffde0d"
      },
      "execution_count": 12,
      "outputs": [
        {
          "output_type": "execute_result",
          "data": {
            "text/plain": [
              "0.0"
            ]
          },
          "metadata": {},
          "execution_count": 12
        }
      ]
    },
    {
      "cell_type": "code",
      "source": [
        "df['NumberChildrenAtHome_Binary'] = (df['NumberChildrenAtHome'] > 0).astype(int)\n",
        "# Compute Jaccard Similarity between 'NumberChildrenAtHome_Binary' and each 'BikeBuyer' column\n",
        "for bike_buyer_col in ['BikeBuyer_0.0', 'BikeBuyer_1.0']:\n",
        "    jaccard_sim = jaccard_score(df['NumberChildrenAtHome_Binary'], df[bike_buyer_col])\n",
        "    print(f\"Jaccard Similarity between NumberChildrenAtHome_Binary and {bike_buyer_col}: {jaccard_sim}\")"
      ],
      "metadata": {
        "colab": {
          "base_uri": "https://localhost:8080/"
        },
        "id": "SM3uPeIOik12",
        "outputId": "b2806ef9-1427-4156-e313-3a53a923b3ec"
      },
      "execution_count": 13,
      "outputs": [
        {
          "output_type": "stream",
          "name": "stdout",
          "text": [
            "Jaccard Similarity between NumberChildrenAtHome_Binary and BikeBuyer_0.0: 0.2138122536725188\n",
            "Jaccard Similarity between NumberChildrenAtHome_Binary and BikeBuyer_1.0: 0.23450479233226837\n"
          ]
        }
      ]
    },
    {
      "cell_type": "code",
      "source": [
        "df['YearlyIncome'].corr(df['AvgMonthSpend'])"
      ],
      "metadata": {
        "colab": {
          "base_uri": "https://localhost:8080/"
        },
        "id": "MimQuNCzinNe",
        "outputId": "d4cb8ab9-1bc9-4202-b7dc-81aee026ab25"
      },
      "execution_count": 14,
      "outputs": [
        {
          "output_type": "execute_result",
          "data": {
            "text/plain": [
              "np.float64(0.012200386558915567)"
            ]
          },
          "metadata": {},
          "execution_count": 14
        }
      ]
    }
  ]
}